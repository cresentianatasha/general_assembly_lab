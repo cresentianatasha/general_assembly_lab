{
 "cells": [
  {
   "cell_type": "markdown",
   "metadata": {},
   "source": [
    "## 6.01 - Supervised Learning Model Comparison\n",
    "\n",
    "Recall the \"data science process.\"\n",
    "\n",
    "1. Define the problem.\n",
    "2. Gather the data.\n",
    "3. Explore the data.\n",
    "4. Model the data.\n",
    "5. Evaluate the model.\n",
    "6. Answer the problem.\n",
    "\n",
    "In this lab, we're going to focus mostly on creating (and then comparing) many regression and classification models. Thus, we'll define the problem and gather the data for you.\n",
    "\n",
    "Most of the questions requiring a written response can be written in 2-3 sentences."
   ]
  },
  {
   "cell_type": "code",
   "execution_count": 232,
   "metadata": {},
   "outputs": [],
   "source": [
    "#importing libraries\n",
    "import pandas as pd\n",
    "import numpy as np\n",
    "import matplotlib.pyplot as plt\n",
    "import seaborn as sns\n",
    "from sklearn.model_selection import train_test_split,GridSearchCV, cross_val_score\n",
    "from sklearn.preprocessing import StandardScaler, RobustScaler\n",
    "from sklearn.tree import DecisionTreeRegressor, DecisionTreeClassifier\n",
    "from sklearn.pipeline import Pipeline, make_pipeline\n",
    "from sklearn.compose import make_column_transformer\n",
    "from sklearn.linear_model import LinearRegression, LogisticRegression\n",
    "from sklearn.neighbors import KNeighborsRegressor,KNeighborsClassifier\n",
    "from sklearn.ensemble import BaggingRegressor, RandomForestRegressor, AdaBoostRegressor, BaggingClassifier, RandomForestClassifier, AdaBoostClassifier\n",
    "from sklearn.svm import SVR,SVC\n",
    "from sklearn.metrics import mean_squared_error,f1_score"
   ]
  },
  {
   "cell_type": "markdown",
   "metadata": {},
   "source": [
    "### Step 1: Define the problem.\n",
    "\n",
    "You are a data scientist with a financial services company. Specifically, you want to leverage data in order to identify potential customers.\n",
    "\n",
    "If you are unfamiliar with \"401(k)s\" or \"IRAs,\" these are two types of retirement accounts. Very broadly speaking:\n",
    "- You can put money for retirement into both of these accounts.\n",
    "- The money in these accounts gets invested and hopefully has a lot more money in it when you retire.\n",
    "- These are a little different from regular bank accounts in that there are certain tax benefits to these accounts. Also, employers frequently match money that you put into a 401k.\n",
    "- If you want to learn more about them, check out [this site](https://www.nerdwallet.com/article/ira-vs-401k-retirement-accounts).\n",
    "\n",
    "We will tackle one regression problem and one classification problem today.\n",
    "- Regression: What features best predict one's income?\n",
    "- Classification: Predict whether or not one is eligible for a 401k.\n",
    "\n",
    "Check out the data dictionary [here](http://fmwww.bc.edu/ec-p/data/wooldridge2k/401KSUBS.DES).\n",
    "\n",
    "### NOTE: When predicting `inc`, you should pretend as though you do not have access to the `e401k`, the `p401k` variable, and the `pira` variable. When predicting `e401k`, you may use the entire dataframe if you wish."
   ]
  },
  {
   "cell_type": "markdown",
   "metadata": {},
   "source": [
    "### Step 2: Gather the data.\n",
    "\n",
    "##### 1. Read in the data from the repository."
   ]
  },
  {
   "cell_type": "code",
   "execution_count": 197,
   "metadata": {
    "collapsed": true
   },
   "outputs": [
    {
     "data": {
      "text/html": [
       "<div>\n",
       "<style scoped>\n",
       "    .dataframe tbody tr th:only-of-type {\n",
       "        vertical-align: middle;\n",
       "    }\n",
       "\n",
       "    .dataframe tbody tr th {\n",
       "        vertical-align: top;\n",
       "    }\n",
       "\n",
       "    .dataframe thead th {\n",
       "        text-align: right;\n",
       "    }\n",
       "</style>\n",
       "<table border=\"1\" class=\"dataframe\">\n",
       "  <thead>\n",
       "    <tr style=\"text-align: right;\">\n",
       "      <th></th>\n",
       "      <th>e401k</th>\n",
       "      <th>inc</th>\n",
       "      <th>marr</th>\n",
       "      <th>male</th>\n",
       "      <th>age</th>\n",
       "      <th>fsize</th>\n",
       "      <th>nettfa</th>\n",
       "      <th>p401k</th>\n",
       "      <th>pira</th>\n",
       "      <th>incsq</th>\n",
       "      <th>agesq</th>\n",
       "    </tr>\n",
       "  </thead>\n",
       "  <tbody>\n",
       "    <tr>\n",
       "      <th>0</th>\n",
       "      <td>0</td>\n",
       "      <td>13.170</td>\n",
       "      <td>0</td>\n",
       "      <td>0</td>\n",
       "      <td>40</td>\n",
       "      <td>1</td>\n",
       "      <td>4.575</td>\n",
       "      <td>0</td>\n",
       "      <td>1</td>\n",
       "      <td>173.4489</td>\n",
       "      <td>1600</td>\n",
       "    </tr>\n",
       "    <tr>\n",
       "      <th>1</th>\n",
       "      <td>1</td>\n",
       "      <td>61.230</td>\n",
       "      <td>0</td>\n",
       "      <td>1</td>\n",
       "      <td>35</td>\n",
       "      <td>1</td>\n",
       "      <td>154.000</td>\n",
       "      <td>1</td>\n",
       "      <td>0</td>\n",
       "      <td>3749.1130</td>\n",
       "      <td>1225</td>\n",
       "    </tr>\n",
       "    <tr>\n",
       "      <th>2</th>\n",
       "      <td>0</td>\n",
       "      <td>12.858</td>\n",
       "      <td>1</td>\n",
       "      <td>0</td>\n",
       "      <td>44</td>\n",
       "      <td>2</td>\n",
       "      <td>0.000</td>\n",
       "      <td>0</td>\n",
       "      <td>0</td>\n",
       "      <td>165.3282</td>\n",
       "      <td>1936</td>\n",
       "    </tr>\n",
       "    <tr>\n",
       "      <th>3</th>\n",
       "      <td>0</td>\n",
       "      <td>98.880</td>\n",
       "      <td>1</td>\n",
       "      <td>1</td>\n",
       "      <td>44</td>\n",
       "      <td>2</td>\n",
       "      <td>21.800</td>\n",
       "      <td>0</td>\n",
       "      <td>0</td>\n",
       "      <td>9777.2540</td>\n",
       "      <td>1936</td>\n",
       "    </tr>\n",
       "    <tr>\n",
       "      <th>4</th>\n",
       "      <td>0</td>\n",
       "      <td>22.614</td>\n",
       "      <td>0</td>\n",
       "      <td>0</td>\n",
       "      <td>53</td>\n",
       "      <td>1</td>\n",
       "      <td>18.450</td>\n",
       "      <td>0</td>\n",
       "      <td>0</td>\n",
       "      <td>511.3930</td>\n",
       "      <td>2809</td>\n",
       "    </tr>\n",
       "  </tbody>\n",
       "</table>\n",
       "</div>"
      ],
      "text/plain": [
       "   e401k     inc  marr  male  age  fsize   nettfa  p401k  pira      incsq  \\\n",
       "0      0  13.170     0     0   40      1    4.575      0     1   173.4489   \n",
       "1      1  61.230     0     1   35      1  154.000      1     0  3749.1130   \n",
       "2      0  12.858     1     0   44      2    0.000      0     0   165.3282   \n",
       "3      0  98.880     1     1   44      2   21.800      0     0  9777.2540   \n",
       "4      0  22.614     0     0   53      1   18.450      0     0   511.3930   \n",
       "\n",
       "   agesq  \n",
       "0   1600  \n",
       "1   1225  \n",
       "2   1936  \n",
       "3   1936  \n",
       "4   2809  "
      ]
     },
     "execution_count": 197,
     "metadata": {},
     "output_type": "execute_result"
    }
   ],
   "source": [
    "df = pd.read_csv('401ksubs.csv')\n",
    "df.head()"
   ]
  },
  {
   "cell_type": "code",
   "execution_count": 198,
   "metadata": {},
   "outputs": [
    {
     "data": {
      "text/plain": [
       "(9275, 11)"
      ]
     },
     "execution_count": 198,
     "metadata": {},
     "output_type": "execute_result"
    }
   ],
   "source": [
    "df.shape"
   ]
  },
  {
   "cell_type": "code",
   "execution_count": 199,
   "metadata": {},
   "outputs": [
    {
     "data": {
      "text/html": [
       "<div>\n",
       "<style scoped>\n",
       "    .dataframe tbody tr th:only-of-type {\n",
       "        vertical-align: middle;\n",
       "    }\n",
       "\n",
       "    .dataframe tbody tr th {\n",
       "        vertical-align: top;\n",
       "    }\n",
       "\n",
       "    .dataframe thead th {\n",
       "        text-align: right;\n",
       "    }\n",
       "</style>\n",
       "<table border=\"1\" class=\"dataframe\">\n",
       "  <thead>\n",
       "    <tr style=\"text-align: right;\">\n",
       "      <th></th>\n",
       "      <th>count</th>\n",
       "      <th>mean</th>\n",
       "      <th>std</th>\n",
       "      <th>min</th>\n",
       "      <th>25%</th>\n",
       "      <th>50%</th>\n",
       "      <th>75%</th>\n",
       "      <th>max</th>\n",
       "    </tr>\n",
       "  </thead>\n",
       "  <tbody>\n",
       "    <tr>\n",
       "      <th>e401k</th>\n",
       "      <td>9275.0</td>\n",
       "      <td>0.392129</td>\n",
       "      <td>0.488252</td>\n",
       "      <td>0.0000</td>\n",
       "      <td>0.0000</td>\n",
       "      <td>0.000</td>\n",
       "      <td>1.0000</td>\n",
       "      <td>1.000</td>\n",
       "    </tr>\n",
       "    <tr>\n",
       "      <th>inc</th>\n",
       "      <td>9275.0</td>\n",
       "      <td>39.254641</td>\n",
       "      <td>24.090002</td>\n",
       "      <td>10.0080</td>\n",
       "      <td>21.6600</td>\n",
       "      <td>33.288</td>\n",
       "      <td>50.1600</td>\n",
       "      <td>199.041</td>\n",
       "    </tr>\n",
       "    <tr>\n",
       "      <th>marr</th>\n",
       "      <td>9275.0</td>\n",
       "      <td>0.628571</td>\n",
       "      <td>0.483213</td>\n",
       "      <td>0.0000</td>\n",
       "      <td>0.0000</td>\n",
       "      <td>1.000</td>\n",
       "      <td>1.0000</td>\n",
       "      <td>1.000</td>\n",
       "    </tr>\n",
       "    <tr>\n",
       "      <th>male</th>\n",
       "      <td>9275.0</td>\n",
       "      <td>0.204420</td>\n",
       "      <td>0.403299</td>\n",
       "      <td>0.0000</td>\n",
       "      <td>0.0000</td>\n",
       "      <td>0.000</td>\n",
       "      <td>0.0000</td>\n",
       "      <td>1.000</td>\n",
       "    </tr>\n",
       "    <tr>\n",
       "      <th>age</th>\n",
       "      <td>9275.0</td>\n",
       "      <td>41.080216</td>\n",
       "      <td>10.299517</td>\n",
       "      <td>25.0000</td>\n",
       "      <td>33.0000</td>\n",
       "      <td>40.000</td>\n",
       "      <td>48.0000</td>\n",
       "      <td>64.000</td>\n",
       "    </tr>\n",
       "    <tr>\n",
       "      <th>fsize</th>\n",
       "      <td>9275.0</td>\n",
       "      <td>2.885067</td>\n",
       "      <td>1.525835</td>\n",
       "      <td>1.0000</td>\n",
       "      <td>2.0000</td>\n",
       "      <td>3.000</td>\n",
       "      <td>4.0000</td>\n",
       "      <td>13.000</td>\n",
       "    </tr>\n",
       "    <tr>\n",
       "      <th>nettfa</th>\n",
       "      <td>9275.0</td>\n",
       "      <td>19.071675</td>\n",
       "      <td>63.963838</td>\n",
       "      <td>-502.3020</td>\n",
       "      <td>-0.5000</td>\n",
       "      <td>2.000</td>\n",
       "      <td>18.4495</td>\n",
       "      <td>1536.798</td>\n",
       "    </tr>\n",
       "    <tr>\n",
       "      <th>p401k</th>\n",
       "      <td>9275.0</td>\n",
       "      <td>0.276226</td>\n",
       "      <td>0.447154</td>\n",
       "      <td>0.0000</td>\n",
       "      <td>0.0000</td>\n",
       "      <td>0.000</td>\n",
       "      <td>1.0000</td>\n",
       "      <td>1.000</td>\n",
       "    </tr>\n",
       "    <tr>\n",
       "      <th>pira</th>\n",
       "      <td>9275.0</td>\n",
       "      <td>0.254340</td>\n",
       "      <td>0.435513</td>\n",
       "      <td>0.0000</td>\n",
       "      <td>0.0000</td>\n",
       "      <td>0.000</td>\n",
       "      <td>1.0000</td>\n",
       "      <td>1.000</td>\n",
       "    </tr>\n",
       "    <tr>\n",
       "      <th>incsq</th>\n",
       "      <td>9275.0</td>\n",
       "      <td>2121.192483</td>\n",
       "      <td>3001.469424</td>\n",
       "      <td>100.1601</td>\n",
       "      <td>469.1556</td>\n",
       "      <td>1108.091</td>\n",
       "      <td>2516.0255</td>\n",
       "      <td>39617.320</td>\n",
       "    </tr>\n",
       "    <tr>\n",
       "      <th>agesq</th>\n",
       "      <td>9275.0</td>\n",
       "      <td>1793.652722</td>\n",
       "      <td>895.648841</td>\n",
       "      <td>625.0000</td>\n",
       "      <td>1089.0000</td>\n",
       "      <td>1600.000</td>\n",
       "      <td>2304.0000</td>\n",
       "      <td>4096.000</td>\n",
       "    </tr>\n",
       "  </tbody>\n",
       "</table>\n",
       "</div>"
      ],
      "text/plain": [
       "         count         mean          std       min        25%       50%  \\\n",
       "e401k   9275.0     0.392129     0.488252    0.0000     0.0000     0.000   \n",
       "inc     9275.0    39.254641    24.090002   10.0080    21.6600    33.288   \n",
       "marr    9275.0     0.628571     0.483213    0.0000     0.0000     1.000   \n",
       "male    9275.0     0.204420     0.403299    0.0000     0.0000     0.000   \n",
       "age     9275.0    41.080216    10.299517   25.0000    33.0000    40.000   \n",
       "fsize   9275.0     2.885067     1.525835    1.0000     2.0000     3.000   \n",
       "nettfa  9275.0    19.071675    63.963838 -502.3020    -0.5000     2.000   \n",
       "p401k   9275.0     0.276226     0.447154    0.0000     0.0000     0.000   \n",
       "pira    9275.0     0.254340     0.435513    0.0000     0.0000     0.000   \n",
       "incsq   9275.0  2121.192483  3001.469424  100.1601   469.1556  1108.091   \n",
       "agesq   9275.0  1793.652722   895.648841  625.0000  1089.0000  1600.000   \n",
       "\n",
       "              75%        max  \n",
       "e401k      1.0000      1.000  \n",
       "inc       50.1600    199.041  \n",
       "marr       1.0000      1.000  \n",
       "male       0.0000      1.000  \n",
       "age       48.0000     64.000  \n",
       "fsize      4.0000     13.000  \n",
       "nettfa    18.4495   1536.798  \n",
       "p401k      1.0000      1.000  \n",
       "pira       1.0000      1.000  \n",
       "incsq   2516.0255  39617.320  \n",
       "agesq   2304.0000   4096.000  "
      ]
     },
     "execution_count": 199,
     "metadata": {},
     "output_type": "execute_result"
    }
   ],
   "source": [
    "df.describe().T"
   ]
  },
  {
   "cell_type": "markdown",
   "metadata": {},
   "source": [
    "### Data Dictionary\n",
    "|Variable Name|Storage Type|Variable Label|\n",
    "|--|--|--|\n",
    "|e401k|byte|=1 if eligble for 401(k)|\n",
    "|inc|float|~~inc^2~~ income|\n",
    "|marr|byte|=1 if married|\n",
    "|male|byte|=1 if male respondent|\n",
    "|age|byte|~~age^2~~ age|\n",
    "|fsize|byte|family size|\n",
    "|nettfa|float|net total fin. assets, $1000|\n",
    "|p401k|byte|=1 if participate in 401(k)|\n",
    "|pira|byte|=1 if have IRA|\n",
    "|incsq|float|inc^2|\n",
    "|agesq|int|age^2|\n"
   ]
  },
  {
   "cell_type": "markdown",
   "metadata": {},
   "source": [
    "##### 2. What are 2-3 other variables that, if available, would be helpful to have?"
   ]
  },
  {
   "cell_type": "markdown",
   "metadata": {
    "collapsed": true
   },
   "source": [
    "1. Education Background (Bachelor/ Master Degree)\n",
    "2. Industry\n",
    "3. Working Experience Duration"
   ]
  },
  {
   "cell_type": "markdown",
   "metadata": {},
   "source": [
    "##### 3. Suppose a peer recommended putting `race` into your model in order to better predict who to target when advertising IRAs and 401(k)s. Why would this be an unethical decision?"
   ]
  },
  {
   "cell_type": "markdown",
   "metadata": {
    "collapsed": true
   },
   "source": [
    "This can be unethical because the goal of both IRA and 401k is to have a retirement savings for your future. By specifying the race, we are indicating that a specific race might have better accessibility than the other which is not the case. Both retirement savings plan should be accesible for all people despite their race"
   ]
  },
  {
   "cell_type": "markdown",
   "metadata": {},
   "source": [
    "## Step 3: Explore the data.\n",
    "\n",
    "##### 4. When attempting to predict income, which feature(s) would we reasonably not use? Why?"
   ]
  },
  {
   "cell_type": "markdown",
   "metadata": {
    "collapsed": true
   },
   "source": [
    "First, we will exclude the target prediction which is the income and square of income\n",
    "Second, if I would to exclude the e401k, p401k and pira features, the next one that I will exclude is marr which define whether one is married or not.\n",
    "I think this feature will have correlation to the family size."
   ]
  },
  {
   "cell_type": "markdown",
   "metadata": {},
   "source": [
    "##### 5. What two variables have already been created for us through feature engineering? Come up with a hypothesis as to why subject-matter experts may have done this.\n",
    "> This need not be a \"statistical hypothesis.\" Just brainstorm why SMEs might have done this!"
   ]
  },
  {
   "cell_type": "markdown",
   "metadata": {
    "collapsed": true
   },
   "source": [
    "The potential reason why it might be squared is because these features such as the income and age don't have normal distribution. Squaring it might be one of the ways to normalize the distribution"
   ]
  },
  {
   "cell_type": "code",
   "execution_count": 200,
   "metadata": {},
   "outputs": [
    {
     "data": {
      "text/html": [
       "<div>\n",
       "<style scoped>\n",
       "    .dataframe tbody tr th:only-of-type {\n",
       "        vertical-align: middle;\n",
       "    }\n",
       "\n",
       "    .dataframe tbody tr th {\n",
       "        vertical-align: top;\n",
       "    }\n",
       "\n",
       "    .dataframe thead th {\n",
       "        text-align: right;\n",
       "    }\n",
       "</style>\n",
       "<table border=\"1\" class=\"dataframe\">\n",
       "  <thead>\n",
       "    <tr style=\"text-align: right;\">\n",
       "      <th></th>\n",
       "      <th>e401k</th>\n",
       "      <th>inc</th>\n",
       "      <th>marr</th>\n",
       "      <th>male</th>\n",
       "      <th>age</th>\n",
       "      <th>fsize</th>\n",
       "      <th>nettfa</th>\n",
       "      <th>p401k</th>\n",
       "      <th>pira</th>\n",
       "      <th>incsq</th>\n",
       "      <th>agesq</th>\n",
       "    </tr>\n",
       "  </thead>\n",
       "  <tbody>\n",
       "    <tr>\n",
       "      <th>0</th>\n",
       "      <td>0</td>\n",
       "      <td>13.170</td>\n",
       "      <td>0</td>\n",
       "      <td>0</td>\n",
       "      <td>40</td>\n",
       "      <td>1</td>\n",
       "      <td>4.575</td>\n",
       "      <td>0</td>\n",
       "      <td>1</td>\n",
       "      <td>173.4489</td>\n",
       "      <td>1600</td>\n",
       "    </tr>\n",
       "    <tr>\n",
       "      <th>1</th>\n",
       "      <td>1</td>\n",
       "      <td>61.230</td>\n",
       "      <td>0</td>\n",
       "      <td>1</td>\n",
       "      <td>35</td>\n",
       "      <td>1</td>\n",
       "      <td>154.000</td>\n",
       "      <td>1</td>\n",
       "      <td>0</td>\n",
       "      <td>3749.1130</td>\n",
       "      <td>1225</td>\n",
       "    </tr>\n",
       "    <tr>\n",
       "      <th>2</th>\n",
       "      <td>0</td>\n",
       "      <td>12.858</td>\n",
       "      <td>1</td>\n",
       "      <td>0</td>\n",
       "      <td>44</td>\n",
       "      <td>2</td>\n",
       "      <td>0.000</td>\n",
       "      <td>0</td>\n",
       "      <td>0</td>\n",
       "      <td>165.3282</td>\n",
       "      <td>1936</td>\n",
       "    </tr>\n",
       "    <tr>\n",
       "      <th>3</th>\n",
       "      <td>0</td>\n",
       "      <td>98.880</td>\n",
       "      <td>1</td>\n",
       "      <td>1</td>\n",
       "      <td>44</td>\n",
       "      <td>2</td>\n",
       "      <td>21.800</td>\n",
       "      <td>0</td>\n",
       "      <td>0</td>\n",
       "      <td>9777.2540</td>\n",
       "      <td>1936</td>\n",
       "    </tr>\n",
       "    <tr>\n",
       "      <th>4</th>\n",
       "      <td>0</td>\n",
       "      <td>22.614</td>\n",
       "      <td>0</td>\n",
       "      <td>0</td>\n",
       "      <td>53</td>\n",
       "      <td>1</td>\n",
       "      <td>18.450</td>\n",
       "      <td>0</td>\n",
       "      <td>0</td>\n",
       "      <td>511.3930</td>\n",
       "      <td>2809</td>\n",
       "    </tr>\n",
       "  </tbody>\n",
       "</table>\n",
       "</div>"
      ],
      "text/plain": [
       "   e401k     inc  marr  male  age  fsize   nettfa  p401k  pira      incsq  \\\n",
       "0      0  13.170     0     0   40      1    4.575      0     1   173.4489   \n",
       "1      1  61.230     0     1   35      1  154.000      1     0  3749.1130   \n",
       "2      0  12.858     1     0   44      2    0.000      0     0   165.3282   \n",
       "3      0  98.880     1     1   44      2   21.800      0     0  9777.2540   \n",
       "4      0  22.614     0     0   53      1   18.450      0     0   511.3930   \n",
       "\n",
       "   agesq  \n",
       "0   1600  \n",
       "1   1225  \n",
       "2   1936  \n",
       "3   1936  \n",
       "4   2809  "
      ]
     },
     "execution_count": 200,
     "metadata": {},
     "output_type": "execute_result"
    }
   ],
   "source": [
    "df.head()"
   ]
  },
  {
   "cell_type": "code",
   "execution_count": 201,
   "metadata": {},
   "outputs": [
    {
     "data": {
      "image/png": "[encoded data removed]",
      "text/plain": [
       "<Figure size 1008x432 with 2 Axes>"
      ]
     },
     "metadata": {
      "needs_background": "light"
     },
     "output_type": "display_data"
    }
   ],
   "source": [
    "fig,(ax1,ax2) = plt.subplots(nrows=1,ncols=2,figsize=(14,6))\n",
    "ax1.hist(df['age'],bins=30);\n",
    "ax2.hist(df['agesq'],bins=60);"
   ]
  },
  {
   "cell_type": "code",
   "execution_count": 202,
   "metadata": {},
   "outputs": [
    {
     "data": {
      "text/plain": [
       "(0.0, 6000.0)"
      ]
     },
     "execution_count": 202,
     "metadata": {},
     "output_type": "execute_result"
    },
    {
     "data": {
      "image/png": "[encoded data removed]",
      "text/plain": [
       "<Figure size 1008x432 with 2 Axes>"
      ]
     },
     "metadata": {
      "needs_background": "light"
     },
     "output_type": "display_data"
    }
   ],
   "source": [
    "fig,(ax1,ax2) = plt.subplots(nrows=1,ncols=2,figsize=(14,6))\n",
    "ax1.hist(df['inc'],bins=50);\n",
    "ax1.set_title('Income')\n",
    "ax1.set_xlim([0,125])\n",
    "ax1.set_ylabel('Frequency')\n",
    "ax2.hist(df['incsq'],bins=1000);\n",
    "ax2.set_title('Income Squared')\n",
    "ax2.set_xlim([0,6000])"
   ]
  },
  {
   "cell_type": "markdown",
   "metadata": {},
   "source": [
    "##### 6. Looking at the data dictionary, one variable description appears to be an error. What is this error, and what do you think the correct value would be?"
   ]
  },
  {
   "cell_type": "markdown",
   "metadata": {
    "collapsed": true
   },
   "source": [
    "For 'inc' and 'age', both of them is labeled as squared of each one of them while it is not as we see the data. 'inc' corresponds to the income and 'age' corresponds to the age"
   ]
  },
  {
   "cell_type": "markdown",
   "metadata": {},
   "source": [
    "## Step 4: Model the data. (Part 1: Regression Problem)\n",
    "\n",
    "Recall:\n",
    "- Problem: What features best predict one's income?\n",
    "- When predicting `inc`, you should pretend as though you do not have access to the `e401k`, the `p401k` variable, and the `pira` variable.\n",
    "\n",
    "##### 7. List all modeling tactics we've learned that could be used to solve a regression problem (as of Wednesday afternoon of Week 6). For each tactic, identify whether it is or is not appropriate for solving this specific regression problem and explain why or why not."
   ]
  },
  {
   "cell_type": "markdown",
   "metadata": {
    "collapsed": true
   },
   "source": [
    "1. Linear Regression (Ordinary Least)\n",
    "    + there is a requirement on data to have linear relationship, variables to be independent and residual must be normally distributed and not have patter. However, there might be a problem of multicollinearity.\n",
    "    + this model is suitable\n",
    "2. Knn regressor:\n",
    "    + sensitive on the distance of the data\n",
    "    + suitable after scaling\n",
    "3. Decision Tree Regressor (using gini impurity to determine the node)\n",
    "    + 1 decision tree might not be able to accurately predict\n",
    "4. Set of bagged decision trees\n",
    "    + improvement from decision tree\n",
    "    + suitable to have better predition, but might have high correlation between trees\n",
    "5. Random Forest\n",
    "    + might be a better model to choose rather than decision tree and set of bagged decision trees due to the bootstrapped data that decorrelate the variables\n",
    "6. Adaboost\n",
    "    + very strategic process to optimize and strengthen the weak learner\n",
    "    + a suitable model\n",
    "7. Support Vector Regressor\n",
    "    + finding a separation in our data by transforming it to higher dimension through matrix calculation (dot products).\n",
    "    + can find intricate separation without actually transforming it.\n",
    "    + suitable model"
   ]
  },
  {
   "cell_type": "markdown",
   "metadata": {},
   "source": [
    "##### 8. Regardless of your answer to number 7, fit at least one of each of the following models to attempt to solve the regression problem above:\n",
    "    - a multiple linear regression model\n",
    "    - a k-nearest neighbors model\n",
    "    - a decision tree\n",
    "    - a set of bagged decision trees\n",
    "    - a random forest\n",
    "    - an Adaboost model\n",
    "    - a support vector regressor\n",
    "    \n",
    "> As always, be sure to do a train/test split! In order to compare modeling techniques, you should use the same train-test split on each. I recommend setting a random seed here.\n",
    "\n",
    "> You may find it helpful to set up a pipeline to try each modeling technique, but you are not required to do so!"
   ]
  },
  {
   "cell_type": "code",
   "execution_count": 221,
   "metadata": {
    "collapsed": true
   },
   "outputs": [],
   "source": [
    "#define the X and y\n",
    "X = df.drop(columns=['inc','incsq','e401k','p401k','pira'],axis=1)\n",
    "y = df['inc']\n",
    "X_train,X_test,y_train,y_test = train_test_split(X,y,random_state=42,test_size=0.2)\n",
    "#scaling\n",
    "ss = StandardScaler()\n",
    "X_train_sc = ss.fit_transform(X_train)\n",
    "X_test_sc = ss.transform(X_test)"
   ]
  },
  {
   "cell_type": "code",
   "execution_count": 222,
   "metadata": {},
   "outputs": [
    {
     "name": "stdout",
     "output_type": "stream",
     "text": [
      "Cross validation on training of Linear Regression: 0.28\n",
      "The training score for Linear Regression: 0.29\n",
      "The test score for Linear Regression: 0.27\n",
      "--------------------------------------------------\n",
      "Cross validation on training of k Nearest Neighbor: 0.28\n",
      "The training score for k Nearest Neighbor: 0.53\n",
      "The test score for k Nearest Neighbor: 0.32\n",
      "--------------------------------------------------\n",
      "Cross validation on training of Decision Tree: -0.25\n",
      "The training score for Decision Tree: 0.99\n",
      "The test score for Decision Tree: -0.21\n",
      "--------------------------------------------------\n",
      "Cross validation on training of Set of Bagged Decision Trees: 0.26\n",
      "The training score for Set of Bagged Decision Trees: 0.86\n",
      "The test score for Set of Bagged Decision Trees: 0.28\n",
      "--------------------------------------------------\n",
      "Cross validation on training of Random Forest: 0.30\n",
      "The training score for Random Forest: 0.90\n",
      "The test score for Random Forest: 0.32\n",
      "--------------------------------------------------\n",
      "Cross validation on training of AdaBoost: 0.06\n",
      "The training score for AdaBoost: 0.03\n",
      "The test score for AdaBoost: 0.00\n",
      "--------------------------------------------------\n",
      "Cross validation on training of Support Vector Regressor: 0.30\n",
      "The training score for Support Vector Regressor: 0.32\n",
      "The test score for Support Vector Regressor: 0.30\n",
      "--------------------------------------------------\n"
     ]
    }
   ],
   "source": [
    "#creating pipeline and fitting it to our data\n",
    "\n",
    "models = {\n",
    "        'Linear Regression':LinearRegression(),\n",
    "        'k Nearest Neighbor': KNeighborsRegressor(),\n",
    "        'Decision Tree' : DecisionTreeRegressor(),\n",
    "        'Set of Bagged Decision Trees': BaggingRegressor(),\n",
    "        'Random Forest' : RandomForestRegressor(),\n",
    "        'AdaBoost' : AdaBoostRegressor(),\n",
    "        'Support Vector Regressor' : SVR(),\n",
    "    }\n",
    "for item,model in models.items():\n",
    "        model.fit(X_train_sc,y_train);\n",
    "        cross_val = cross_val_score(model,X_train_sc,y_train).mean()\n",
    "        train_score = model.score(X_train_sc,y_train)\n",
    "        test_score = model.score(X_test_sc,y_test)\n",
    "        print(f'Cross validation on training of {item}: {cross_val:.2f}')\n",
    "        print(f'The training score for {item}: {train_score:.2f}')\n",
    "        print(f'The test score for {item}: {test_score:.2f}')\n",
    "        print('--------------------------------------------------')"
   ]
  },
  {
   "cell_type": "markdown",
   "metadata": {},
   "source": [
    "##### 9. What is bootstrapping?"
   ]
  },
  {
   "cell_type": "markdown",
   "metadata": {
    "collapsed": true
   },
   "source": [
    "Bootstrapping is a random sampling method with replacement. It is a method used to create better prediction."
   ]
  },
  {
   "cell_type": "markdown",
   "metadata": {},
   "source": [
    "##### 10. What is the difference between a decision tree and a set of bagged decision trees? Be specific and precise!"
   ]
  },
  {
   "cell_type": "markdown",
   "metadata": {
    "collapsed": true
   },
   "source": [
    "Decision tree consists of 1 tree only to make prediction while a set of bagged decision trees have multiple trees. There are few advantages of using bagged decision trees compared to decision tree:\n",
    "1. Statistically: one model will only generate one prediciton while multiple models can average out the errors by each model.\n",
    "2. Computationally: there is chance that our prediction is in the local mininum, while having multiple models enable us to get the global minimum value\n",
    "3. Representation: one model might not be able to accurately predict the target value, but having multiple models and aggregate the result will enable better prediction"
   ]
  },
  {
   "cell_type": "markdown",
   "metadata": {},
   "source": [
    "##### 11. What is the difference between a set of bagged decision trees and a random forest? Be specific and precise!"
   ]
  },
  {
   "cell_type": "markdown",
   "metadata": {
    "collapsed": true
   },
   "source": [
    "The difference between set of bagged decision trees and random forest are:\n",
    "1. Number of features used in the model. Bagged decision trees will utilize all the features while random forest utilize bootstrapped data, therefore, not all the features is used to make prediction\n",
    "2. Random forest reduces the variance with the expense of increasing the bias by decorelatting the trees as we select random subset of the features. "
   ]
  },
  {
   "cell_type": "markdown",
   "metadata": {},
   "source": [
    "##### 12. Why might a random forest be superior to a set of bagged decision trees?\n",
    "> Hint: Consider the bias-variance tradeoff."
   ]
  },
  {
   "cell_type": "markdown",
   "metadata": {
    "collapsed": true
   },
   "source": [
    "Bagged of decision trees has tendency of being highly correlated (high variance, low bias) due to the Gini Impurity method that the model used to choose which node chosen as parent nod, this is where Random Forest come in with bootstrapped data reducing the variance of the data"
   ]
  },
  {
   "cell_type": "markdown",
   "metadata": {},
   "source": [
    "## Step 5: Evaluate the model. (Part 1: Regression Problem)\n",
    "\n",
    "##### 13. Using RMSE, evaluate each of the models you fit on both the training and testing data."
   ]
  },
  {
   "cell_type": "code",
   "execution_count": 207,
   "metadata": {
    "collapsed": true
   },
   "outputs": [
    {
     "name": "stdout",
     "output_type": "stream",
     "text": [
      "Training data RMSE value by Linear Regression: 20.16\n",
      "Testing data RMSE value by Linear Regression: 20.90\n",
      "----------------------------------------------------------------\n",
      "Training data RMSE value by k Nearest Neighbor: 16.50\n",
      "Testing data RMSE value by k Nearest Neighbor: 20.18\n",
      "----------------------------------------------------------------\n",
      "Training data RMSE value by Decision Tree: 2.26\n",
      "Testing data RMSE value by Decision Tree: 27.28\n",
      "----------------------------------------------------------------\n",
      "Training data RMSE value by Set of Bagged Decision Trees: 8.98\n",
      "Testing data RMSE value by Set of Bagged Decision Trees: 20.93\n",
      "----------------------------------------------------------------\n",
      "Training data RMSE value by Random Forest: 7.75\n",
      "Testing data RMSE value by Random Forest: 20.32\n",
      "----------------------------------------------------------------\n",
      "Training data RMSE value by AdaBoost: 21.93\n",
      "Testing data RMSE value by AdaBoost: 22.99\n",
      "----------------------------------------------------------------\n",
      "Training data RMSE value by Support Vector Regressor: 19.79\n",
      "Testing data RMSE value by Support Vector Regressor: 20.52\n",
      "----------------------------------------------------------------\n"
     ]
    }
   ],
   "source": [
    "#function for rmse\n",
    "for item,model in models.items():\n",
    "        y_pred_train = model.predict(X_train_sc)\n",
    "        rmse_train = np.sqrt(mean_squared_error(y_train,y_pred_train))\n",
    "        y_pred_test = model.predict(X_test_sc)\n",
    "        rmse_test = np.sqrt(mean_squared_error(y_test,y_pred_test))\n",
    "        print(f'Training data RMSE value by {item}: {rmse_train:.2f}')\n",
    "        print(f'Testing data RMSE value by {item}: {rmse_test:.2f}')\n",
    "        print('----------------------------------------------------------------')"
   ]
  },
  {
   "cell_type": "markdown",
   "metadata": {},
   "source": [
    "##### 14. Based on training RMSE and testing RMSE, is there evidence of overfitting in any of your models? Which ones?"
   ]
  },
  {
   "cell_type": "markdown",
   "metadata": {
    "collapsed": true
   },
   "source": [
    "Yes, if Test data RMSE score is significantly higher than the test set, we can see this as an indication of overfitting.\n",
    "\n",
    "Well generalizing model: linear regression, support vector regressor\n",
    "\n",
    "Slight overfit: kNN, AdaBoost\n",
    "\n",
    "Severe overfitting: Decision Trees, Bagged of Decision Trees, Random Forrest"
   ]
  },
  {
   "cell_type": "markdown",
   "metadata": {},
   "source": [
    "##### 15. Based on everything we've covered so far, if you had to pick just one model as your final model to use to answer the problem in front of you, which one model would you pick? Defend your choice."
   ]
  },
  {
   "cell_type": "markdown",
   "metadata": {
    "collapsed": true
   },
   "source": [
    "I will choose Support Vector Regressor to predict income because the model generate best R2 score and also lowest RMSE in the well generalizing model category."
   ]
  },
  {
   "cell_type": "markdown",
   "metadata": {},
   "source": [
    "##### 16. Suppose you wanted to improve the performance of your final model. Brainstorm 2-3 things that, if you had more time, you would attempt."
   ]
  },
  {
   "cell_type": "markdown",
   "metadata": {
    "collapsed": true
   },
   "source": [
    "2 things that I will do to improve Support Vector Machine performance:\n",
    "1. Add more relevant features that can better predict income\n",
    "2. Tuning the hyperparameters using gridsearch"
   ]
  },
  {
   "cell_type": "code",
   "execution_count": 208,
   "metadata": {},
   "outputs": [],
   "source": [
    "svr = SVR()\n",
    "final_model_1 = make_pipeline(ss,svr)\n",
    "svr_params = {\n",
    "    'svr__kernel':['rbf','poly'],\n",
    "    'svr__C':[10,1,0.5,0.1],\n",
    "}\n",
    "gs_svr = GridSearchCV(\n",
    "    estimator=final_model_1,\n",
    "    param_grid=svr_params,\n",
    "    cv=10,\n",
    "    n_jobs=-1,\n",
    "    scoring ='r2',\n",
    "    return_train_score=True\n",
    ")\n",
    "gs_svr.fit(X_train,y_train);"
   ]
  },
  {
   "cell_type": "code",
   "execution_count": 209,
   "metadata": {},
   "outputs": [
    {
     "data": {
      "text/plain": [
       "{'svr__C': 10, 'svr__kernel': 'rbf'}"
      ]
     },
     "execution_count": 209,
     "metadata": {},
     "output_type": "execute_result"
    }
   ],
   "source": [
    "gs_svr.best_params_"
   ]
  },
  {
   "cell_type": "code",
   "execution_count": 210,
   "metadata": {},
   "outputs": [
    {
     "name": "stdout",
     "output_type": "stream",
     "text": [
      "Train score: 0.36151579213813057 Test score: 0.34044023614281493\n"
     ]
    }
   ],
   "source": [
    "print('Train score:',gs_svr.score(X_train,y_train),'Test score:',gs_svr.score(X_test,y_test))\n",
    "#improvement from our baseline score"
   ]
  },
  {
   "cell_type": "markdown",
   "metadata": {},
   "source": [
    "## Step 4: Model the data. (Part 2: Classification Problem)\n",
    "\n",
    "Recall:\n",
    "- Problem: Predict whether or not one is eligible for a 401k.\n",
    "- When predicting `e401k`, you may use the entire dataframe if you wish.\n",
    "\n",
    "##### 17. While you're allowed to use every variable in your dataframe, mention at least one disadvantage of using `p401k` in your model."
   ]
  },
  {
   "cell_type": "markdown",
   "metadata": {
    "collapsed": true
   },
   "source": [
    "Disadvantage of using p401k variable is it is correlated to the other feature (e401k)"
   ]
  },
  {
   "cell_type": "markdown",
   "metadata": {},
   "source": [
    "##### 18. List all modeling tactics we've learned that could be used to solve a classification problem (as of Wednesday afternoon of Week 6). For each tactic, identify whether it is or is not appropriate for solving this specific classification problem and explain why or why not."
   ]
  },
  {
   "cell_type": "markdown",
   "metadata": {
    "collapsed": true
   },
   "source": [
    "1. Logistic Regression \n",
    "    + perform well if data is linear by getting the probability then classify it to certain class\n",
    "    + this model is suitable\n",
    "2. Knn regressor:\n",
    "    + sensitive on the distance of the data\n",
    "    + suitable after scaling\n",
    "3. Decision Tree (using gini impurity to determine the node)\n",
    "    + 1 decision tree might not be able to accurately predict\n",
    "4. Set of bagged decision trees\n",
    "    + improvement from decision tree\n",
    "    + suitable to have better predition, but might have high correlation between trees\n",
    "5. Random Forest\n",
    "    + might be a better model to choose rather than decision tree and set of bagged decision trees due to the bootstrapped data that decorrelate the variables\n",
    "6. Adaboost\n",
    "    + very strategic process to optimize and strengthen the weak learner\n",
    "    + a suitable model\n",
    "7. Support Vector Classifier\n",
    "    + finding a separation in our data by transforming it to higher dimension through matrix calculation.\n",
    "    + can find intricate separation without actually transforming it.\n",
    "    + suitable model"
   ]
  },
  {
   "cell_type": "markdown",
   "metadata": {},
   "source": [
    "##### 19. Regardless of your answer to number 18, fit at least one of each of the following models to attempt to solve the classification problem above:\n",
    "    - a logistic regression model\n",
    "    - a k-nearest neighbors model\n",
    "    - a decision tree\n",
    "    - a set of bagged decision trees\n",
    "    - a random forest\n",
    "    - an Adaboost model\n",
    "    - a support vector classifier\n",
    "    \n",
    "> As always, be sure to do a train/test split! In order to compare modeling techniques, you should use the same train-test split on each. I recommend using a random seed here.\n",
    "\n",
    "> You may find it helpful to set up a pipeline to try each modeling technique, but you are not required to do so!"
   ]
  },
  {
   "cell_type": "code",
   "execution_count": 228,
   "metadata": {},
   "outputs": [],
   "source": [
    "#Define the X and y \n",
    "X = df.drop(columns=['e401k'],axis=1)\n",
    "y = df['e401k']\n",
    "#train-test-split \n",
    "X_train,X_test,y_train,y_test = train_test_split(X,y,random_state=42,test_size=0.2)\n",
    "#scaling\n",
    "ss = StandardScaler()\n",
    "X_train_sc = ss.fit_transform(X_train)\n",
    "X_test_sc = ss.transform(X_test)"
   ]
  },
  {
   "cell_type": "code",
   "execution_count": 229,
   "metadata": {
    "collapsed": true
   },
   "outputs": [
    {
     "name": "stdout",
     "output_type": "stream",
     "text": [
      "Cross validation on training of Logistic Regresion: 0.88\n",
      "The training score for Logistic Regresion: 0.88\n",
      "The test score for Logistic Regresion: 0.89\n",
      "--------------------------------------------------\n",
      "Cross validation on training of k Nearest Neighbor: 0.86\n",
      "The training score for k Nearest Neighbor: 0.89\n",
      "The test score for k Nearest Neighbor: 0.87\n",
      "--------------------------------------------------\n",
      "Cross validation on training of Decision Tree: 0.81\n",
      "The training score for Decision Tree: 1.00\n",
      "The test score for Decision Tree: 0.80\n",
      "--------------------------------------------------\n",
      "Cross validation on training of Set of Bagged Decision Trees: 0.87\n",
      "The training score for Set of Bagged Decision Trees: 0.98\n",
      "The test score for Set of Bagged Decision Trees: 0.87\n",
      "--------------------------------------------------\n",
      "Cross validation on training of Random Forrest: 0.88\n",
      "The training score for Random Forrest: 1.00\n",
      "The test score for Random Forrest: 0.88\n",
      "--------------------------------------------------\n",
      "Cross validation on training of AdaBoost: 0.88\n",
      "The training score for AdaBoost: 0.88\n",
      "The test score for AdaBoost: 0.88\n",
      "--------------------------------------------------\n",
      "Cross validation on training of Support Vector Classifier: 0.88\n",
      "The training score for Support Vector Classifier: 0.88\n",
      "The test score for Support Vector Classifier: 0.89\n",
      "--------------------------------------------------\n"
     ]
    }
   ],
   "source": [
    "class_model = {\n",
    "    'Logistic Regresion':LogisticRegression(),\n",
    "    'k Nearest Neighbor' : KNeighborsClassifier(),\n",
    "    'Decision Tree':DecisionTreeClassifier(),\n",
    "    'Set of Bagged Decision Trees':BaggingClassifier(),\n",
    "    'Random Forrest':RandomForestClassifier(),\n",
    "    'AdaBoost':AdaBoostClassifier(),\n",
    "    'Support Vector Classifier':SVC()\n",
    "}\n",
    "for item,model in class_model.items():\n",
    "        model.fit(X_train_sc,y_train);\n",
    "        cross_val = cross_val_score(model,X_train_sc,y_train).mean()\n",
    "        train_score = model.score(X_train_sc,y_train)\n",
    "        test_score = model.score(X_test_sc,y_test)\n",
    "        print(f'Cross validation on training of {item}: {cross_val:.2f}')\n",
    "        print(f'The training score for {item}: {train_score:.2f}')\n",
    "        print(f'The test score for {item}: {test_score:.2f}')\n",
    "        print('--------------------------------------------------')"
   ]
  },
  {
   "cell_type": "code",
   "execution_count": 230,
   "metadata": {},
   "outputs": [
    {
     "name": "stdout",
     "output_type": "stream",
     "text": [
      "Training data RMSE value by Logistic Regresion: 0.34\n",
      "Testing data RMSE value by Logistic Regresion: 0.34\n",
      "----------------------------------------------------------------\n",
      "Training data RMSE value by k Nearest Neighbor: 0.33\n",
      "Testing data RMSE value by k Nearest Neighbor: 0.36\n",
      "----------------------------------------------------------------\n",
      "Training data RMSE value by Decision Tree: 0.00\n",
      "Testing data RMSE value by Decision Tree: 0.45\n",
      "----------------------------------------------------------------\n",
      "Training data RMSE value by Set of Bagged Decision Trees: 0.13\n",
      "Testing data RMSE value by Set of Bagged Decision Trees: 0.36\n",
      "----------------------------------------------------------------\n",
      "Training data RMSE value by Random Forrest: 0.01\n",
      "Testing data RMSE value by Random Forrest: 0.35\n",
      "----------------------------------------------------------------\n",
      "Training data RMSE value by AdaBoost: 0.34\n",
      "Testing data RMSE value by AdaBoost: 0.34\n",
      "----------------------------------------------------------------\n",
      "Training data RMSE value by Support Vector Classifier: 0.34\n",
      "Testing data RMSE value by Support Vector Classifier: 0.34\n",
      "----------------------------------------------------------------\n"
     ]
    }
   ],
   "source": [
    "for item,model in class_model.items():\n",
    "        y_pred_train = model.predict(X_train_sc)\n",
    "        rmse_train = np.sqrt(mean_squared_error(y_train,y_pred_train))\n",
    "        y_pred_test = model.predict(X_test_sc)\n",
    "        rmse_test = np.sqrt(mean_squared_error(y_test,y_pred_test))\n",
    "        print(f'Training data RMSE value by {item}: {rmse_train:.2f}')\n",
    "        print(f'Testing data RMSE value by {item}: {rmse_test:.2f}')\n",
    "        print('----------------------------------------------------------------')"
   ]
  },
  {
   "cell_type": "markdown",
   "metadata": {},
   "source": [
    "## Step 5: Evaluate the model. (Part 2: Classfication Problem)\n",
    "\n",
    "##### 20. Suppose our \"positive\" class is that someone is eligible for a 401(k). What are our false positives? What are our false negatives?"
   ]
  },
  {
   "cell_type": "markdown",
   "metadata": {
    "collapsed": true
   },
   "source": [
    "Knowing that \"positive\" class refer to someone that is eligible for 401k (e401k=1):\n",
    "- False positive is when we predict someone is eligible for 401(k) while it turns out that they are ineligible\n",
    "- False negative is when we predict someone is ineligible for 401(k) while it turns out that they are eligible "
   ]
  },
  {
   "cell_type": "markdown",
   "metadata": {},
   "source": [
    "##### 21. In this specific case, would we rather minimize false positives or minimize false negatives? Defend your choice."
   ]
  },
  {
   "cell_type": "markdown",
   "metadata": {
    "collapsed": true
   },
   "source": [
    "In this case, I would rather minimize the false positive because if our goal is to predict who is eligible for 401(k), there is a tendency that user is one who is keen to enroll for 401(k). Therefore when we predict they are ineligible but turns out to be eligible is better than the other way around."
   ]
  },
  {
   "cell_type": "markdown",
   "metadata": {},
   "source": [
    "##### 22. Suppose we wanted to optimize for the answer you provided in problem 21. Which metric would we optimize in this case?"
   ]
  },
  {
   "cell_type": "markdown",
   "metadata": {
    "collapsed": true
   },
   "source": [
    "Increasing accuracy including reducing the False Pass Rate by updating the threshold we use to classify our probability"
   ]
  },
  {
   "cell_type": "markdown",
   "metadata": {},
   "source": [
    "##### 23. Suppose that instead of optimizing for the metric in problem 21, we wanted to balance our false positives and false negatives using `f1-score`. Why might [f1-score](https://en.wikipedia.org/wiki/F1_score) be an appropriate metric to use here?"
   ]
  },
  {
   "cell_type": "markdown",
   "metadata": {
    "collapsed": true
   },
   "source": [
    "f1-score is the mean of precision and recall where it will be high if our model has high precission and high recall. this might be a better fit to evaluate our metrics as the number of y data is unbalanced\n",
    "precision is tp/(tp+fp)\n",
    "recall is tp/(tp+fn) "
   ]
  },
  {
   "cell_type": "code",
   "execution_count": 231,
   "metadata": {},
   "outputs": [
    {
     "data": {
      "text/plain": [
       "0    0.607871\n",
       "1    0.392129\n",
       "Name: e401k, dtype: float64"
      ]
     },
     "execution_count": 231,
     "metadata": {},
     "output_type": "execute_result"
    }
   ],
   "source": [
    "y.value_counts(normalize=True)"
   ]
  },
  {
   "cell_type": "markdown",
   "metadata": {},
   "source": [
    "##### 24. Using f1-score, evaluate each of the models you fit on both the training and testing data."
   ]
  },
  {
   "cell_type": "code",
   "execution_count": 234,
   "metadata": {
    "collapsed": true
   },
   "outputs": [
    {
     "name": "stdout",
     "output_type": "stream",
     "text": [
      "Training data f1 score by Logistic Regresion: 0.83\n",
      "Testing data f1 score value by Logistic Regresion: 0.83\n",
      "----------------------------------------------------------------\n",
      "Training data f1 score by k Nearest Neighbor: 0.85\n",
      "Testing data f1 score value by k Nearest Neighbor: 0.81\n",
      "----------------------------------------------------------------\n",
      "Training data f1 score by Decision Tree: 1.00\n",
      "Testing data f1 score value by Decision Tree: 0.74\n",
      "----------------------------------------------------------------\n",
      "Training data f1 score by Set of Bagged Decision Trees: 0.98\n",
      "Testing data f1 score value by Set of Bagged Decision Trees: 0.81\n",
      "----------------------------------------------------------------\n",
      "Training data f1 score by Random Forrest: 1.00\n",
      "Testing data f1 score value by Random Forrest: 0.82\n",
      "----------------------------------------------------------------\n",
      "Training data f1 score by AdaBoost: 0.83\n",
      "Testing data f1 score value by AdaBoost: 0.83\n",
      "----------------------------------------------------------------\n",
      "Training data f1 score by Support Vector Classifier: 0.83\n",
      "Testing data f1 score value by Support Vector Classifier: 0.83\n",
      "----------------------------------------------------------------\n"
     ]
    }
   ],
   "source": [
    "for item,model in class_model.items():\n",
    "        y_pred_train = model.predict(X_train_sc)\n",
    "        f1_train = f1_score(y_train,y_pred_train)\n",
    "        y_pred_test = model.predict(X_test_sc)\n",
    "        f1_test = f1_score(y_test,y_pred_test)\n",
    "        print(f'Training data f1 score by {item}: {f1_train:.2f}')\n",
    "        print(f'Testing data f1 score value by {item}: {f1_test:.2f}')\n",
    "        print('----------------------------------------------------------------')"
   ]
  },
  {
   "cell_type": "markdown",
   "metadata": {},
   "source": [
    "##### 25. Based on training f1-score and testing f1-score, is there evidence of overfitting in any of your models? Which ones?"
   ]
  },
  {
   "cell_type": "markdown",
   "metadata": {
    "collapsed": true
   },
   "source": [
    "- Overfitting models: Decision trees, set of bagged decision trees, random forrest\n",
    "- Slight overfit: k Nearest neighbor\n",
    "- Well fitting model: logistic regression, adaboost, support vector classifier\n"
   ]
  },
  {
   "cell_type": "markdown",
   "metadata": {},
   "source": [
    "##### 26. Based on everything we've covered so far, if you had to pick just one model as your final model to use to answer the problem in front of you, which one model would you pick? Defend your choice."
   ]
  },
  {
   "cell_type": "markdown",
   "metadata": {
    "collapsed": true
   },
   "source": [
    "I would choose adaboost because it has quite an optimal score and a high f1 score"
   ]
  },
  {
   "cell_type": "markdown",
   "metadata": {},
   "source": [
    "##### 27. Suppose you wanted to improve the performance of your final model. Brainstorm 2-3 things that, if you had more time, you would attempt."
   ]
  },
  {
   "cell_type": "markdown",
   "metadata": {
    "collapsed": true
   },
   "source": [
    "1. Use gridsearch to get best parameter on the learning rate and n_estimator\n",
    "2. Get more data of relevant variables"
   ]
  },
  {
   "cell_type": "markdown",
   "metadata": {},
   "source": [
    "## Step 6: Answer the problem.\n",
    "\n",
    "##### BONUS: Briefly summarize your answers to the regression and classification problems. Be sure to include any limitations or hesitations in your answer.\n",
    "\n",
    "- Regression: What features best predict one's income?\n",
    "- Classification: Predict whether or not one is eligible for a 401k."
   ]
  },
  {
   "cell_type": "code",
   "execution_count": 235,
   "metadata": {},
   "outputs": [
    {
     "data": {
      "image/png": "[encoded data removed]",
      "text/plain": [
       "<Figure size 1080x720 with 2 Axes>"
      ]
     },
     "metadata": {
      "needs_background": "light"
     },
     "output_type": "display_data"
    }
   ],
   "source": [
    "plt.figure(figsize=(15,10))\n",
    "sns.heatmap(df.corr(),annot=True,cmap='coolwarm',vmin=-1,vmax=1);"
   ]
  },
  {
   "cell_type": "markdown",
   "metadata": {
    "collapsed": true
   },
   "source": [
    "Regression: feature that best predict income is nett financial asset. Limitation is that we only see the linear relation with "
   ]
  }
 ],
 "metadata": {
  "kernelspec": {
   "display_name": "Python 3.10.6 64-bit",
   "language": "python",
   "name": "python3"
  },
  "language_info": {
   "codemirror_mode": {
    "name": "ipython",
    "version": 3
   },
   "file_extension": ".py",
   "mimetype": "text/x-python",
   "name": "python",
   "nbconvert_exporter": "python",
   "pygments_lexer": "ipython3",
   "version": "3.10.6"
  },
  "vscode": {
   "interpreter": {
    "hash": "aee8b7b246df8f9039afb4144a1f6fd8d2ca17a180786b69acc140d282b71a49"
   }
  }
 },
 "nbformat": 4,
 "nbformat_minor": 2
}
